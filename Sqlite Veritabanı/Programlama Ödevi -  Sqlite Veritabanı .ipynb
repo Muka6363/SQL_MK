{
 "cells": [
  {
   "cell_type": "markdown",
   "metadata": {},
   "source": [
    "## Programlama Ödevi -  Sqlite Veritabanı \n",
    "\n",
    "### Proje 1 \n",
    "\n",
    "Kodlama egzersizimizde yazdığımız kütüphane projesini elinizden geldiğince geliştirmeye çalışın.\n",
    "\n"
   ]
  },
  {
   "cell_type": "markdown",
   "metadata": {},
   "source": [
    "### Proje 2\n",
    "\n",
    "Siz de bir tane Şarkı projesi geliştirmeye çalışın.\n",
    "\n",
    "                         Örnek özellikler;\n",
    "                         \n",
    "                         1. Şarkı İsmi \n",
    "                         2. Sanatçı\n",
    "                         3. Albüm\n",
    "                         4. Prodüksiyon Şirketi\n",
    "                         5. Şarkı Süresi\n",
    "                         \n",
    "                         Örnek Metodlar;\n",
    "                         \n",
    "                         1. Veritabanındaki Toplam Şarkı Süresini Hesaplayan Metod\n",
    "                         2. Şarkı Ekle\n",
    "                         3. Şarkı Sil\n",
    "                         "
   ]
  },
  {
   "cell_type": "markdown",
   "metadata": {},
   "source": [
    "### Proje 3\n",
    "\n",
    "Süpermarket içindeki ürünler üzerinden bir tane Süpermarket Projesi geliştirmeye çalışın."
   ]
  },
  {
   "cell_type": "code",
   "execution_count": null,
   "metadata": {
    "collapsed": true
   },
   "outputs": [],
   "source": []
  }
 ],
 "metadata": {
  "kernelspec": {
   "display_name": "Python 3",
   "language": "python",
   "name": "python3"
  },
  "language_info": {
   "codemirror_mode": {
    "name": "ipython",
    "version": 3
   },
   "file_extension": ".py",
   "mimetype": "text/x-python",
   "name": "python",
   "nbconvert_exporter": "python",
   "pygments_lexer": "ipython3",
   "version": "3.6.1"
  }
 },
 "nbformat": 4,
 "nbformat_minor": 2
}
