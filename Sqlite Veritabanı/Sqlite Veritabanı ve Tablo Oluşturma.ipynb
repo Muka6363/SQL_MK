{
 "cells": [
  {
   "cell_type": "markdown",
   "metadata": {},
   "source": [
    "# Sqlite Veritabanı ve Tablo Oluşturma\n",
    "\n",
    "Bu konuyla beraber Python ile Sqlite Veritabanı nasıl kullanılır öğrenmeye çalışacağız. Veritabanı konusu çok çok uzun incelenmesi gereken bir konu olduğu için bu bölümde sadece Sqlite veritabanını basit anlamda incelemeye çalışacağız. \n",
    "\n",
    "### Veritabanı nedir ? \n",
    "\n",
    "Veritabanı uygulamalarımızda , websitelerimizde veya en genel anlamda programlarımızda gerekli olan bilgileri depoladığımız bir yapıdır. Örneğin , Facebook'un kullanıcıları, gönderileri tuttuğu veritabanları gibi. Günümüzde kullanılan bazı veritabanı türleri şunlardır;\n",
    "\n",
    "                Relational Database (İlişkisel Veritabanları) : Tablolardan oluşur. Mysql, Sqlite vs.\n",
    "                DocumentBased Database (Doküman Veritabanları) : Dokümanlardan oluşur. MongoDb, Azure DocumentDb\n",
    "                                   //\n",
    "                                   //\n",
    "                                   //\n",
    "                                   \n",
    "Bizim bu bölümde inceleyeceğimiz veritabanı Sqlite ilişkisel bir veritabanıdır ve bu veritabanı tablolardan oluşur. Her bir tablo veritabanında belli gruplanmış verileri tutar. Örnek bir tablo yapısı şu şekildedir;"
   ]
  },
  {
   "cell_type": "code",
   "execution_count": 1,
   "metadata": {},
   "outputs": [
    {
     "data": {
      "image/png": "[encoded data removed]",
      "text/plain": [
       "<IPython.core.display.Image object>"
      ]
     },
     "execution_count": 1,
     "metadata": {},
     "output_type": "execute_result"
    }
   ],
   "source": [
    "from IPython.display import Image\n",
    "Image(filename='Tablo.png')"
   ]
  },
  {
   "cell_type": "markdown",
   "metadata": {},
   "source": [
    "Buradaki tabloda , **İsim,Yazar,Yayınevi,Sayfa Sayısı** gibi özellikler bizim tablomuzun **özellikleridir** ve her bir satırda herhangi bir kitabın özellikleri saklanır. Tabloları tıpkı bir excel dosyası gibi düşünebilirsiniz."
   ]
  },
  {
   "cell_type": "markdown",
   "metadata": {},
   "source": [
    "### Sqlite Veritabanı\n",
    "\n",
    "Bu bölümde göreceğimiz Sqlite veritabanı diğer veritabanları gibi sunucu kurmamızı gerektirmez, yani sunucusuz bir veritabanıdır. Bu anlamda herhangi bir programımızın yanına direk olarak kurulabilir. Peki bu veritabanı üzerinde tablo oluşturma, veri ekleme gibi işlemlerimizi nasıl gerçekleştireceğiz ? İlişkisel veritabanları tablo işlemlerini **SQL(Structured Query Language)** adında bir sorgulama diliyle gerçekleştirir. Ancak bu sorgulama dili çok kapsamlı olduğu için bu bölümde sadece belli başlı sorguları göstermeye çalışacağım.\n",
    "\n",
    "Sql dilini incelemek isterseniz şu siteye bakabilirsiniz :  https://www.w3schools.com/SQL/deFault.asp\n",
    "\n",
    "### Kullanılacak Yazılım\n",
    "\n",
    "Sqlite veritabanında işlemler yaptıktan sonra veritabanını incelemek için güzel bir yazılım bulunuyor. Bu derste hep beraber bu yazılımı kullanacağız.\n",
    "Bu yazılım şuradan kolaylıkla indirip kurabilirsiniz. http://sqlitebrowser.org/\n",
    "\n",
    "İsterseniz artık yavaştan bu veritabanını öğrenmeye başlayalım. \n",
    "\n",
    "***Not: Buradan sonraki kodları artık bilgisayarımızda görmeye çalışacağız. Ancak burada bunları tekrardan yazacağım. Daha sonra çalışmak için kullanabilirsiniz. Ayrıca kodları paylaşacağımı da tekrar hatırlatmak istiyorum. *** \n",
    "\n"
   ]
  },
  {
   "cell_type": "markdown",
   "metadata": {},
   "source": [
    "### Sqlite Veritabanı Oluşturma\n",
    "\n",
    "                1. import sqlite3 -  Modülümüzü dahil ediyoruz.\n",
    "                \n",
    "                2. con = sqlite3.connect(\"kütüphane.db\") - kütüphane.db veritabanını oluşturup bağlanıyoruz.\n",
    "                Eğer öyle bir veritabanı varsa bağlanıyoruz. Bağlantıyı con isimli bir değişkene atıyoruz.\n",
    "                3.  Database üzerinde Sql sorgularını çalıştırmak için cursor bir tane imleç oluşturuyoruz. \n",
    "                \"cursor =  con.cursor()\n",
    "                4. Veritabanı işlemlerinin sonunda con.close() ile bağlantımızı koparıyoruz.\n",
    "Veritabanına bağlantı işlemini şu şekilde bir kod ile yapabiliriz. Bu işlemleri bilgisayarınızda yapmaya çalışın.\n",
    "\n",
    "***Kodları Jupyterde çalıştırırsak bu dizinde de veritabanımız oluşacaktır. Ancak dersimizi bilgisayar üzerinde yapmaya çalışalım*** \n"
   ]
  },
  {
   "cell_type": "code",
   "execution_count": 2,
   "metadata": {
    "collapsed": true
   },
   "outputs": [],
   "source": [
    "import sqlite3 # Sqlite'yı dahil ediyoruz\n",
    "\n",
    "con = sqlite3.connect(\"kütüphane.db\") # Tabloya bağlanıyoruz.\n",
    "\n",
    "cursor = con.cursor() # cursor isimli değişken veritabanı üzerinde işlem yapmak için kullanacağımız imleç olacak.\n",
    "\n",
    "\n",
    "con.close() # Bağlantıyı koparıyoruz."
   ]
  },
  {
   "cell_type": "markdown",
   "metadata": {},
   "source": [
    "### Kitaplık Tablosu oluşturma\n",
    "\n",
    "Veritabanında ***kitaplık*** isimli bir tablo oluşturmak için şu 2 sorgudan birini kullanabiliriz.\n",
    "\n",
    "*** CREATE TABLE kitaplık (İsim TEXT, Yazar TEXT, Yayınevi TEXT , Sayfa_Sayısı INT) *** -  Bu sorgu kitaplık isimli bir tablo oluşturacak ve bu tablonun özellikleri İsim (TEXT --> String),Yazar(TEXT --> String),Yayınevi (TEXT ---> String), Sayfa_Sayısı(INT --- int) olacak. Ancak bu sorguyu arda arda çalıştırırsak \"Tablo Already Exists\" hatası alacağız.\n",
    "\n",
    "*** CREATE TABLE IF NOT EXISTS kitaplık (İsim TEXT, Yazar TEXT, Yayınevi TEXT , Sayfa_Sayısı INT) *** - Bu sorgu tablo yoksa oluşturacak, tablo varsa hata vermeyecektir. Kodlarımız şu şekilde;\n"
   ]
  },
  {
   "cell_type": "code",
   "execution_count": null,
   "metadata": {
    "collapsed": true
   },
   "outputs": [],
   "source": [
    "import sqlite3 # Sqlite'yı dahil ediyoruz\n",
    "\n",
    "con = sqlite3.connect(\"kütüphane.db\") # Tabloya bağlanıyoruz.\n",
    "\n",
    "cursor = con.cursor() # cursor isimli değişken veritabanı üzerinde işlem yapmak için kullanacağımız imleç olacak.\n",
    "\n",
    "def tablo_oluştur():\n",
    "    cursor.execute(\"CREATE TABLE IF NOT EXISTS kitaplık (İsim TEXT, Yazar TEXT, Yayınevi TEXT, Sayfa_Sayısı INT)\") # Sorguyu çalıştırıyoruz.\n",
    "    con.commit() # Sorgunun veritabanı üzerinde geçerli olması için commit işlemi gerekli.\n",
    "tablo_oluştur()\n",
    "con.close() # Bağlantıyı koparıyoruz.\n"
   ]
  },
  {
   "cell_type": "markdown",
   "metadata": {},
   "source": [
    "Şu anda veritabanımıza bağlandık ve kitaplık isimli bir tablonun oluştuğunu görebiliriz. Bir sonraki derste tabloya bilgi eklemeyi göreceğiz."
   ]
  },
  {
   "cell_type": "code",
   "execution_count": null,
   "metadata": {
    "collapsed": true
   },
   "outputs": [],
   "source": []
  }
 ],
 "metadata": {
  "kernelspec": {
   "display_name": "Python 3",
   "language": "python",
   "name": "python3"
  },
  "language_info": {
   "codemirror_mode": {
    "name": "ipython",
    "version": 3
   },
   "file_extension": ".py",
   "mimetype": "text/x-python",
   "name": "python",
   "nbconvert_exporter": "python",
   "pygments_lexer": "ipython3",
   "version": "3.6.1"
  }
 },
 "nbformat": 4,
 "nbformat_minor": 2
}
